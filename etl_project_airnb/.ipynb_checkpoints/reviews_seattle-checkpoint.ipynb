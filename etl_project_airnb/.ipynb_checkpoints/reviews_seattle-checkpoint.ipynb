{
 "cells": [
  {
   "cell_type": "code",
   "execution_count": null,
   "metadata": {},
   "outputs": [],
   "source": [
    "import pandas as pd\n",
    "from sqlalchemy import create_engine\n",
    "import numpy as np"
   ]
  },
  {
   "cell_type": "markdown",
   "metadata": {},
   "source": [
    "Extracting The CSV into a DataFrame"
   ]
  },
  {
   "cell_type": "code",
   "execution_count": null,
   "metadata": {},
   "outputs": [],
   "source": [
    "reviews_file=\"Resources/reviews.csv\"\n",
    "\n",
    "# Reading the Csv and creating a df\n",
    "reviews_file_df = pd.read_csv(reviews_file).set_index('listing_id')\n",
    "reviews_file_df.head()\n"
   ]
  },
  {
   "cell_type": "markdown",
   "metadata": {},
   "source": [
    "Transforming the Reviews DataFrame"
   ]
  },
  {
   "cell_type": "code",
   "execution_count": null,
   "metadata": {
    "scrolled": true
   },
   "outputs": [],
   "source": [
    "#Create new data with select columns\n",
    "\n",
    "## Groupby the listing_id\n",
    "\n",
    "reviews_clean = reviews_file_df.drop(columns=['id','reviewer_id','reviewer_name'])\n",
    "reviews_new = pd.DataFrame(reviews_clean.sort_values(['listing_id','comments']).dropna())\n",
    "#clean_reviews=reviews_clean.dropna()\n",
    "reviews_new.head()\n",
    "# rename the columns\n",
    "# reviews_clean.rename(columns={\"comments\":\"Reviews\"})\n",
    "\n",
    "\n"
   ]
  },
  {
   "cell_type": "markdown",
   "metadata": {},
   "source": [
    "Create database connection\n"
   ]
  },
  {
   "cell_type": "code",
   "execution_count": null,
   "metadata": {},
   "outputs": [],
   "source": [
    "\n",
    "connection= \"postgres:postgres@localhost:5432/reviews_db\"\n",
    "\n",
    "# create engine\n",
    "engine = create_engine(f'postgresql://{connection}')"
   ]
  },
  {
   "cell_type": "code",
   "execution_count": null,
   "metadata": {},
   "outputs": [],
   "source": [
    "# cheking for the table: reviews\n",
    "\n",
    "engine.table_names()"
   ]
  },
  {
   "cell_type": "markdown",
   "metadata": {},
   "source": [
    " Use of  pandas to load csv converted DataFrame into database"
   ]
  },
  {
   "cell_type": "code",
   "execution_count": null,
   "metadata": {},
   "outputs": [],
   "source": [
    "reviews_new.to_sql(name='review', con=engine, if_exists='append', index=False)"
   ]
  },
  {
   "cell_type": "code",
   "execution_count": null,
   "metadata": {},
   "outputs": [],
   "source": []
  }
 ],
 "metadata": {
  "kernelspec": {
   "display_name": "Python 3.7.4 64-bit ('base': conda)",
   "language": "python",
   "name": "python37464bitbasecondab304cf99f0d04a93be1949cec4ece800"
  },
  "language_info": {
   "codemirror_mode": {
    "name": "ipython",
    "version": 3
   },
   "file_extension": ".py",
   "mimetype": "text/x-python",
   "name": "python",
   "nbconvert_exporter": "python",
   "pygments_lexer": "ipython3",
   "version": "3.7.4"
  }
 },
 "nbformat": 4,
 "nbformat_minor": 2
}
